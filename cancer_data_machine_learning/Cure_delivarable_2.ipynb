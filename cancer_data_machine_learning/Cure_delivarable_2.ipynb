{
 "cells": [
  {
   "cell_type": "code",
   "execution_count": 3,
   "id": "82aae2a7",
   "metadata": {},
   "outputs": [],
   "source": [
    "import numpy as np\n",
    "import pandas as pd\n",
    "from pandas import Series, DataFrame\n",
    "import matplotlib.pyplot as plt\n",
    "\n",
    "\n",
    "import sklearn\n",
    "from sklearn.datasets import load_breast_cancer\n",
    "cancer = load_breast_cancer(return_X_y = True, as_frame = True)\n",
    "\n",
    "a = cancer[0]\n",
    "b = cancer[1]\n",
    "a['classes'] = b\n",
    "a = a.rename(columns = { a.columns[30]: \"typeofcancer\"})"
   ]
  },
  {
   "cell_type": "code",
   "execution_count": 4,
   "id": "ece51be4",
   "metadata": {},
   "outputs": [
    {
     "data": {
      "text/plain": [
       "(569, 31)"
      ]
     },
     "execution_count": 4,
     "metadata": {},
     "output_type": "execute_result"
    }
   ],
   "source": [
    "a.shape"
   ]
  },
  {
   "cell_type": "code",
   "execution_count": 5,
   "id": "6477542b",
   "metadata": {
    "scrolled": true
   },
   "outputs": [
    {
     "data": {
      "text/html": [
       "<div>\n",
       "<style scoped>\n",
       "    .dataframe tbody tr th:only-of-type {\n",
       "        vertical-align: middle;\n",
       "    }\n",
       "\n",
       "    .dataframe tbody tr th {\n",
       "        vertical-align: top;\n",
       "    }\n",
       "\n",
       "    .dataframe thead th {\n",
       "        text-align: right;\n",
       "    }\n",
       "</style>\n",
       "<table border=\"1\" class=\"dataframe\">\n",
       "  <thead>\n",
       "    <tr style=\"text-align: right;\">\n",
       "      <th></th>\n",
       "      <th>mean radius</th>\n",
       "      <th>mean perimeter</th>\n",
       "      <th>mean area</th>\n",
       "      <th>typeofcancer</th>\n",
       "    </tr>\n",
       "  </thead>\n",
       "  <tbody>\n",
       "    <tr>\n",
       "      <th>0</th>\n",
       "      <td>17.99</td>\n",
       "      <td>122.8</td>\n",
       "      <td>1001.0</td>\n",
       "      <td>0</td>\n",
       "    </tr>\n",
       "    <tr>\n",
       "      <th>1</th>\n",
       "      <td>20.57</td>\n",
       "      <td>132.9</td>\n",
       "      <td>1326.0</td>\n",
       "      <td>0</td>\n",
       "    </tr>\n",
       "  </tbody>\n",
       "</table>\n",
       "</div>"
      ],
      "text/plain": [
       "   mean radius  mean perimeter  mean area  typeofcancer\n",
       "0        17.99           122.8     1001.0             0\n",
       "1        20.57           132.9     1326.0             0"
      ]
     },
     "execution_count": 5,
     "metadata": {},
     "output_type": "execute_result"
    }
   ],
   "source": [
    "df = a.iloc[:,[0,2,3,30]];\n",
    "df.iloc[0:2,]"
   ]
  },
  {
   "cell_type": "code",
   "execution_count": 8,
   "id": "d0dc1766",
   "metadata": {
    "scrolled": false
   },
   "outputs": [
    {
     "data": {
      "text/html": [
       "<div>\n",
       "<style scoped>\n",
       "    .dataframe tbody tr th:only-of-type {\n",
       "        vertical-align: middle;\n",
       "    }\n",
       "\n",
       "    .dataframe tbody tr th {\n",
       "        vertical-align: top;\n",
       "    }\n",
       "\n",
       "    .dataframe thead th {\n",
       "        text-align: right;\n",
       "    }\n",
       "</style>\n",
       "<table border=\"1\" class=\"dataframe\">\n",
       "  <thead>\n",
       "    <tr style=\"text-align: right;\">\n",
       "      <th></th>\n",
       "      <th>mean radius</th>\n",
       "      <th>mean perimeter</th>\n",
       "      <th>mean area</th>\n",
       "      <th>typeofcancer</th>\n",
       "    </tr>\n",
       "  </thead>\n",
       "  <tbody>\n",
       "    <tr>\n",
       "      <th>0</th>\n",
       "      <td>17.99</td>\n",
       "      <td>122.8</td>\n",
       "      <td>1001.0</td>\n",
       "      <td>0</td>\n",
       "    </tr>\n",
       "    <tr>\n",
       "      <th>1</th>\n",
       "      <td>20.57</td>\n",
       "      <td>132.9</td>\n",
       "      <td>1326.0</td>\n",
       "      <td>0</td>\n",
       "    </tr>\n",
       "    <tr>\n",
       "      <th>2</th>\n",
       "      <td>19.69</td>\n",
       "      <td>130.0</td>\n",
       "      <td>1203.0</td>\n",
       "      <td>0</td>\n",
       "    </tr>\n",
       "  </tbody>\n",
       "</table>\n",
       "</div>"
      ],
      "text/plain": [
       "   mean radius  mean perimeter  mean area  typeofcancer\n",
       "0        17.99           122.8     1001.0             0\n",
       "1        20.57           132.9     1326.0             0\n",
       "2        19.69           130.0     1203.0             0"
      ]
     },
     "execution_count": 8,
     "metadata": {},
     "output_type": "execute_result"
    }
   ],
   "source": [
    "df.iloc[0:3,]"
   ]
  },
  {
   "cell_type": "code",
   "execution_count": 6,
   "id": "c7562fe4",
   "metadata": {},
   "outputs": [],
   "source": [
    "sorted1 = a.sort_values('typeofcancer', ignore_index = True);\n",
    "\n"
   ]
  },
  {
   "cell_type": "code",
   "execution_count": 7,
   "id": "6225414d",
   "metadata": {},
   "outputs": [
    {
     "data": {
      "text/plain": [
       "1    357\n",
       "0    212\n",
       "Name: typeofcancer, dtype: int64"
      ]
     },
     "execution_count": 7,
     "metadata": {},
     "output_type": "execute_result"
    }
   ],
   "source": [
    "f1, f0 = sorted1.typeofcancer.value_counts()\n",
    "f1,f0"
   ]
  },
  {
   "cell_type": "code",
   "execution_count": 90,
   "id": "a1d15e2b",
   "metadata": {},
   "outputs": [
    {
     "data": {
      "text/plain": [
       "<matplotlib.legend.Legend at 0x2157da35070>"
      ]
     },
     "execution_count": 90,
     "metadata": {},
     "output_type": "execute_result"
    },
    {
     "data": {
      "image/png": "[encoded data removed]",
      "text/plain": [
       "<Figure size 936x180 with 3 Axes>"
      ]
     },
     "metadata": {
      "needs_background": "light"
     },
     "output_type": "display_data"
    }
   ],
   "source": [
    "\n",
    "fig, axs = plt.subplots(   figsize =(13, 2.5))\n",
    "\n",
    "axs1 = plt.subplot2grid(  shape= (1,4), loc = (0,0))\n",
    "axs2 = plt.subplot2grid(  shape= (1,4), loc = (0,1))\n",
    "axs3 = plt.subplot2grid(  shape= (1,4), loc = (0,2))\n",
    "\n",
    "\n",
    "plt.tight_layout()\n",
    "\n",
    "axs1.hist(sorted1.iloc[0:f0,0], edgecolor='b', fc='none', label = 'c0(Maligan)')\n",
    "axs1.hist(sorted1.iloc[f0:f0+f1,0], edgecolor='r', fc='none', label = 'c1(Benign)')\n",
    "axs1.set_xlabel ('mean radius')\n",
    "axs1.set_ylabel ('Frequency')\n",
    "axs1.legend()\n",
    "\n",
    "\n",
    "axs2.scatter (sorted1.iloc[0:f0,2], sorted1.iloc[0:f0,0], label = 'c0(M)')\n",
    "axs2.scatter (sorted1.iloc[f0:f0+f1,2], sorted1.iloc[f0:f0+f1,0], label = 'c0(B)');\n",
    "axs2.set_xlabel ('mean perimeter')\n",
    "axs2.set_ylabel ('mean radius')\n",
    "axs2.legend()\n",
    "\n",
    "axs3.scatter (sorted1.iloc[0:f0,3], sorted1.iloc[0:f0,0], label = 'c0(M)')\n",
    "axs3.scatter (sorted1.iloc[f0:f0+f1,3], sorted1.iloc[f0:f0+f1,0], label = 'c0(B)');\n",
    "axs3.set_xlabel ('mean area')\n",
    "axs3.set_ylabel ('mean radius')\n",
    "axs3.legend()"
   ]
  },
  {
   "cell_type": "code",
   "execution_count": null,
   "id": "f773b214",
   "metadata": {},
   "outputs": [],
   "source": []
  }
 ],
 "metadata": {
  "kernelspec": {
   "display_name": "Python 3 (ipykernel)",
   "language": "python",
   "name": "python3"
  },
  "language_info": {
   "codemirror_mode": {
    "name": "ipython",
    "version": 3
   },
   "file_extension": ".py",
   "mimetype": "text/x-python",
   "name": "python",
   "nbconvert_exporter": "python",
   "pygments_lexer": "ipython3",
   "version": "3.9.12"
  }
 },
 "nbformat": 4,
 "nbformat_minor": 5
}
