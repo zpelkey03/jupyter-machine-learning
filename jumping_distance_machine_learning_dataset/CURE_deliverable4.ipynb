{
 "cells": [
  {
   "cell_type": "markdown",
   "id": "b8a3e345",
   "metadata": {},
   "source": [
    "TASK 1"
   ]
  },
  {
   "cell_type": "code",
   "execution_count": 3,
   "id": "2e03103c",
   "metadata": {},
   "outputs": [],
   "source": [
    "#Create the data file and import important\n",
    "import numpy as np\n",
    "import pandas as pd\n",
    "from pandas import Series, DataFrame\n",
    "import matplotlib.pyplot as plt\n",
    "\n",
    "jump_statistics = pd.read_excel(r'\\data_for_CURE2.xlsx')"
   ]
  },
  {
   "cell_type": "code",
   "execution_count": 4,
   "id": "d977035c",
   "metadata": {},
   "outputs": [],
   "source": [
    "#Set up the dataframe\n",
    "jump_statistics = jump_statistics.rename(columns = { jump_statistics.columns[3]: \"person_jumping\"})\n",
    "df = jump_statistics\n"
   ]
  },
  {
   "cell_type": "code",
   "execution_count": 5,
   "id": "7ebc6e40",
   "metadata": {},
   "outputs": [],
   "source": [
    "#Set up your x and y training and testing sets\n",
    "dfX = df.drop (columns = ['person_jumping'])\n",
    "sy = df.person_jumping"
   ]
  },
  {
   "cell_type": "code",
   "execution_count": 6,
   "id": "3ebaa8b8",
   "metadata": {},
   "outputs": [],
   "source": [
    "from sklearn.model_selection import train_test_split\n",
    "dfX_train, dfX_test, sy_train, sy_test = train_test_split(dfX,sy)"
   ]
  },
  {
   "cell_type": "code",
   "execution_count": 7,
   "id": "394c8053",
   "metadata": {},
   "outputs": [],
   "source": [
    "dfX_train, dfX_test, sy_train, sy_test;"
   ]
  },
  {
   "cell_type": "markdown",
   "id": "dd3212ee",
   "metadata": {},
   "source": [
    "SET UP YOUR LABEL ENCODER"
   ]
  },
  {
   "cell_type": "code",
   "execution_count": 8,
   "id": "fc632e7a",
   "metadata": {},
   "outputs": [
    {
     "data": {
      "text/plain": [
       "LabelEncoder()"
      ]
     },
     "execution_count": 8,
     "metadata": {},
     "output_type": "execute_result"
    }
   ],
   "source": [
    "from sklearn import preprocessing\n",
    "\n",
    "le = preprocessing.LabelEncoder()\n",
    "le"
   ]
  },
  {
   "cell_type": "code",
   "execution_count": 9,
   "id": "0ec00fcc",
   "metadata": {},
   "outputs": [
    {
     "data": {
      "text/plain": [
       "array([1, 2, 3], dtype=int64)"
      ]
     },
     "execution_count": 9,
     "metadata": {},
     "output_type": "execute_result"
    }
   ],
   "source": [
    "le = le.fit(sy_train)\n",
    "le.classes_"
   ]
  },
  {
   "cell_type": "code",
   "execution_count": 10,
   "id": "311d390a",
   "metadata": {},
   "outputs": [
    {
     "data": {
      "text/plain": [
       "(47    3\n",
       " 54    1\n",
       " 27    1\n",
       " 99    1\n",
       " 28    2\n",
       "      ..\n",
       " 23    3\n",
       " 12    2\n",
       " 17    3\n",
       " 89    3\n",
       " 52    2\n",
       " Name: person_jumping, Length: 76, dtype: int64,\n",
       " array([2, 0, 0, 0, 1, 1, 2, 1, 1, 2, 1, 2, 2, 2, 0, 2, 0, 0, 1, 0, 0, 2,\n",
       "        2, 1, 0, 0, 0, 2, 0, 0, 2, 2, 0, 0, 2, 2, 0, 1, 0, 2, 0, 1, 2, 1,\n",
       "        2, 0, 2, 1, 1, 2, 1, 2, 0, 2, 0, 0, 0, 1, 0, 1, 1, 1, 0, 2, 1, 1,\n",
       "        2, 0, 2, 1, 0, 2, 1, 2, 2, 1], dtype=int64))"
      ]
     },
     "execution_count": 10,
     "metadata": {},
     "output_type": "execute_result"
    }
   ],
   "source": [
    "#trasnform your training set into a label encoded one\n",
    "y_train = le.transform(sy_train)\n",
    "sy_train, y_train"
   ]
  },
  {
   "cell_type": "code",
   "execution_count": 11,
   "id": "3d50de75",
   "metadata": {},
   "outputs": [
    {
     "data": {
      "text/plain": [
       "array([[ 19,  85,  54],\n",
       "       [ 25,  92,  48],\n",
       "       [ 21,  83,  55],\n",
       "       [ 27,  96,  53],\n",
       "       [ 21,  80,  55],\n",
       "       [ 22,  89,  49],\n",
       "       [ 19,  79,  49],\n",
       "       [ 16,  73,  56],\n",
       "       [ 16,  99,  54],\n",
       "       [ 19, 108,  52],\n",
       "       [ 22,  72,  46],\n",
       "       [ 19, 106,  45],\n",
       "       [ 25,  86,  53],\n",
       "       [ 16,  96,  44],\n",
       "       [ 25,  74,  56],\n",
       "       [ 15,  82,  50],\n",
       "       [ 23, 100,  49],\n",
       "       [ 24, 107,  52],\n",
       "       [ 17,  85,  50],\n",
       "       [ 25,  80,  45],\n",
       "       [ 16,  77,  47],\n",
       "       [ 26, 102,  51],\n",
       "       [ 24, 101,  45],\n",
       "       [ 18, 103,  47],\n",
       "       [ 17, 107,  50],\n",
       "       [ 26,  80,  55],\n",
       "       [ 19,  80,  53],\n",
       "       [ 24,  98,  47],\n",
       "       [ 24,  94,  56],\n",
       "       [ 25,  83,  53],\n",
       "       [ 23, 110,  52],\n",
       "       [ 16, 109,  53],\n",
       "       [ 19,  76,  45],\n",
       "       [ 28, 108,  52],\n",
       "       [ 16,  94,  45],\n",
       "       [ 27, 104,  49],\n",
       "       [ 28,  76,  56],\n",
       "       [ 16,  85,  54],\n",
       "       [ 26,  89,  49],\n",
       "       [ 23,  84,  44],\n",
       "       [ 19,  87,  53],\n",
       "       [ 29, 104,  53],\n",
       "       [ 17,  76,  47],\n",
       "       [ 22, 103,  44],\n",
       "       [ 24,  75,  54],\n",
       "       [ 24,  77,  56],\n",
       "       [ 28,  84,  55],\n",
       "       [ 16,  99,  48],\n",
       "       [ 22,  98,  46],\n",
       "       [ 24,  83,  53],\n",
       "       [ 23,  90,  45],\n",
       "       [ 24,  72,  51],\n",
       "       [ 17,  91,  55],\n",
       "       [ 16, 109,  50],\n",
       "       [ 23,  97,  54],\n",
       "       [ 27,  85,  51],\n",
       "       [ 28,  75,  45],\n",
       "       [ 24,  86,  51],\n",
       "       [ 21,  81,  49],\n",
       "       [ 20, 103,  46],\n",
       "       [ 15, 102,  44],\n",
       "       [ 21, 107,  54],\n",
       "       [ 18, 110,  54],\n",
       "       [ 19,  72,  50],\n",
       "       [ 19,  93,  49],\n",
       "       [ 16,  85,  50],\n",
       "       [ 27, 102,  52],\n",
       "       [ 25,  89,  50],\n",
       "       [ 23, 106,  50],\n",
       "       [ 27, 101,  50],\n",
       "       [ 15, 108,  54],\n",
       "       [ 27,  87,  46],\n",
       "       [ 25,  97,  46],\n",
       "       [ 28,  91,  52],\n",
       "       [ 17, 105,  50],\n",
       "       [ 26,  83,  53]], dtype=int64)"
      ]
     },
     "execution_count": 11,
     "metadata": {},
     "output_type": "execute_result"
    }
   ],
   "source": [
    "#Wrap your training set into an array\n",
    "dfX_train.to_numpy()"
   ]
  },
  {
   "cell_type": "code",
   "execution_count": 12,
   "id": "327abb38",
   "metadata": {},
   "outputs": [],
   "source": [
    "#Develop your knn classifier\n",
    "n1= preprocessing.MinMaxScaler()\n",
    "n1= n1.fit(dfX_train.to_numpy())\n",
    "\n",
    "X_train = n1.transform(dfX_train.to_numpy())\n"
   ]
  },
  {
   "cell_type": "code",
   "execution_count": 13,
   "id": "527710bf",
   "metadata": {},
   "outputs": [
    {
     "data": {
      "text/plain": [
       "(76, 3)"
      ]
     },
     "execution_count": 13,
     "metadata": {},
     "output_type": "execute_result"
    }
   ],
   "source": [
    "X_train.shape"
   ]
  },
  {
   "cell_type": "code",
   "execution_count": 14,
   "id": "c499cdc7",
   "metadata": {},
   "outputs": [],
   "source": [
    "#Create your knn classifier\n",
    "from sklearn.neighbors import KNeighborsClassifier\n",
    "\n",
    "knn =KNeighborsClassifier(n_neighbors=7)\n",
    "\n",
    "knn = knn.fit(X_train, y_train)"
   ]
  },
  {
   "cell_type": "code",
   "execution_count": 15,
   "id": "df96b242",
   "metadata": {},
   "outputs": [],
   "source": [
    "#Set up your test values\n",
    "y_test = le.transform(sy_test.to_numpy())\n"
   ]
  },
  {
   "cell_type": "code",
   "execution_count": 16,
   "id": "24979921",
   "metadata": {},
   "outputs": [],
   "source": [
    "#Set up your test values\n",
    "X_test = n1.transform(dfX_test.to_numpy())\n"
   ]
  },
  {
   "cell_type": "code",
   "execution_count": 17,
   "id": "cc8a6716",
   "metadata": {},
   "outputs": [
    {
     "data": {
      "text/plain": [
       "0.2692307692307692"
      ]
     },
     "execution_count": 17,
     "metadata": {},
     "output_type": "execute_result"
    }
   ],
   "source": [
    "#Retrieve your model accuraccy for a given k-value\n",
    "knn.score(X_test, y_test)"
   ]
  },
  {
   "cell_type": "code",
   "execution_count": 18,
   "id": "644c11df",
   "metadata": {},
   "outputs": [
    {
     "data": {
      "text/plain": [
       "0.5526315789473685"
      ]
     },
     "execution_count": 18,
     "metadata": {},
     "output_type": "execute_result"
    }
   ],
   "source": [
    "knn.score(X_train, y_train)"
   ]
  },
  {
   "cell_type": "code",
   "execution_count": 19,
   "id": "bd2de6ad",
   "metadata": {
    "scrolled": true
   },
   "outputs": [
    {
     "data": {
      "text/plain": [
       "<matplotlib.legend.Legend at 0x24873df0430>"
      ]
     },
     "execution_count": 19,
     "metadata": {},
     "output_type": "execute_result"
    },
    {
     "data": {
      "image/png": "[encoded data removed]",
      "text/plain": [
       "<Figure size 1872x360 with 1 Axes>"
      ]
     },
     "metadata": {
      "needs_background": "light"
     },
     "output_type": "display_data"
    }
   ],
   "source": [
    "#Create a scatterplot iterating through different k-values\n",
    "fig, axs = plt.subplots(   figsize =(26, 5))\n",
    "axs2 = plt.subplot2grid(  shape= (1,4), loc = (0,0))\n",
    "\n",
    "plt.tight_layout()\n",
    "axs2.set_xlabel ('k-value')\n",
    "axs2.set_ylabel ('model_accuracy')\n",
    "\n",
    "\n",
    "k = np.array([1,2,3,4,5,6,7,8,9,10,11,12,13,14,15,16,17,18,19,20])\n",
    "tst = []\n",
    "trn = []\n",
    "for i in range(1,21):\n",
    "    knn =KNeighborsClassifier(n_neighbors=i)\n",
    "    knn = knn.fit(X_train, y_train)\n",
    "    train = knn.score(X_train, y_train)\n",
    "    test = knn.score(X_test, y_test)\n",
    "    \n",
    "    tst.append(test)\n",
    "    trn.append(train)\n",
    "\n",
    "tst2 =np.array(tst)\n",
    "trn2 = np.array(trn)\n",
    "axs2.scatter(k,trn2, color=\"blue\", label = 'Model Accuracy for Training')\n",
    "axs2.scatter(k,tst2, color='red', label = 'Model Accuracy for Testing')  \n",
    "axs2.legend()\n"
   ]
  },
  {
   "cell_type": "code",
   "execution_count": 20,
   "id": "372b56c7",
   "metadata": {},
   "outputs": [],
   "source": [
    "#Set it up again using Standard Scaler instead of min/max\n",
    "n2= preprocessing.StandardScaler()\n",
    "n2= n2.fit(dfX_train.to_numpy())\n",
    "\n",
    "X_train = n2.transform(dfX_train.to_numpy())\n"
   ]
  },
  {
   "cell_type": "code",
   "execution_count": 21,
   "id": "b8bb7bb4",
   "metadata": {},
   "outputs": [
    {
     "data": {
      "text/plain": [
       "<matplotlib.legend.Legend at 0x248741e2c70>"
      ]
     },
     "execution_count": 21,
     "metadata": {},
     "output_type": "execute_result"
    },
    {
     "data": {
      "image/png": "[encoded data removed]",
      "text/plain": [
       "<Figure size 1872x360 with 1 Axes>"
      ]
     },
     "metadata": {
      "needs_background": "light"
     },
     "output_type": "display_data"
    }
   ],
   "source": [
    "#Plot the standard scaler data\n",
    "fig, axs = plt.subplots(   figsize =(26, 5))\n",
    "axs2 = plt.subplot2grid(  shape= (1,4), loc = (0,0))\n",
    "\n",
    "plt.tight_layout()\n",
    "axs2.set_xlabel ('k-value')\n",
    "axs2.set_ylabel ('model_accuracy')\n",
    "\n",
    "\n",
    "k = np.array([1,2,3,4,5,6,7,8,9,10,11,12,13,14,15,16,17,18,19,20])\n",
    "tst = []\n",
    "trn = []\n",
    "for i in range(1,21):\n",
    "    knn =KNeighborsClassifier(n_neighbors=i)\n",
    "    knn = knn.fit(X_train, y_train)\n",
    "    train = knn.score(X_train, y_train)\n",
    "    test = knn.score(X_test, y_test)\n",
    "    \n",
    "    tst.append(test)\n",
    "    trn.append(train)\n",
    "\n",
    "tst2 =np.array(tst)\n",
    "trn2 = np.array(trn)\n",
    "axs2.scatter(k,trn2, color=\"blue\", label = 'Model Accuracy for Training')\n",
    "axs2.scatter(k,tst2, color='red', label = 'Model Accuracy for Testing')  \n",
    "axs2.legend()"
   ]
  },
  {
   "cell_type": "markdown",
   "id": "94d556b4",
   "metadata": {},
   "source": [
    "Selected Standard Scalar and k value of 8"
   ]
  },
  {
   "cell_type": "code",
   "execution_count": 39,
   "id": "8a4cbdf4",
   "metadata": {},
   "outputs": [
    {
     "data": {
      "text/plain": [
       "array([[19,  2,  6],\n",
       "       [ 9,  9,  4],\n",
       "       [ 7,  7, 13]], dtype=int64)"
      ]
     },
     "execution_count": 39,
     "metadata": {},
     "output_type": "execute_result"
    }
   ],
   "source": [
    "#Set to standard scalar\n",
    "n2= preprocessing.StandardScaler()\n",
    "n2= n2.fit(dfX_train.to_numpy())\n",
    "\n",
    "X_train = n2.transform(dfX_train.to_numpy())\n",
    "\n",
    "#Set the k value to 8 and fit it\n",
    "from sklearn.neighbors import KNeighborsClassifier\n",
    "\n",
    "knn =KNeighborsClassifier(n_neighbors=8)\n",
    "\n",
    "knn = knn.fit(X_train, y_train)\n",
    "\n",
    "\n",
    "\n",
    "#Create and print the confusion matrix\n",
    "from sklearn.metrics import confusion_matrix\n",
    " \n",
    "cm = confusion_matrix(y_train,y_pred)\n",
    "cm\n",
    "\n"
   ]
  },
  {
   "cell_type": "code",
   "execution_count": 42,
   "id": "1ef3fed8",
   "metadata": {},
   "outputs": [],
   "source": [
    "#Set to standard scalar\n",
    "n2= preprocessing.StandardScaler()\n",
    "n2= n2.fit(dfX_train.to_numpy())\n",
    "\n",
    "X_train = n2.transform(dfX_train.to_numpy())\n",
    "\n",
    "#Set the k value to 8 and fit it\n",
    "from sklearn.neighbors import KNeighborsClassifier\n",
    "\n",
    "knn =KNeighborsClassifier(n_neighbors=8)\n",
    "\n",
    "knn = knn.fit(X_train, y_train)\n"
   ]
  },
  {
   "cell_type": "code",
   "execution_count": 43,
   "id": "33f28e24",
   "metadata": {},
   "outputs": [
    {
     "data": {
      "text/plain": [
       "(69     1\n",
       " 4      1\n",
       " 50     3\n",
       " 97     2\n",
       " 95     3\n",
       " 7      1\n",
       " 40     2\n",
       " 76     2\n",
       " 88     2\n",
       " 55     2\n",
       " 25     2\n",
       " 101    3\n",
       " 38     3\n",
       " 14     2\n",
       " 1      1\n",
       " 8      3\n",
       " 72     1\n",
       " 91     2\n",
       " 22     2\n",
       " 75     1\n",
       " 56     3\n",
       " 73     2\n",
       " 74     3\n",
       " 49     2\n",
       " 64     2\n",
       " 84     1\n",
       " Name: person_jumping, dtype: int64,\n",
       " array([0, 0, 2, 1, 2, 0, 1, 1, 1, 1, 1, 2, 2, 1, 0, 2, 0, 1, 1, 0, 2, 1,\n",
       "        2, 1, 1, 0], dtype=int64))"
      ]
     },
     "execution_count": 43,
     "metadata": {},
     "output_type": "execute_result"
    }
   ],
   "source": [
    "#Set y_test\n",
    "y_test = le.transform(sy_test.to_numpy())\n",
    "sy_test, y_test"
   ]
  },
  {
   "cell_type": "code",
   "execution_count": 45,
   "id": "c2fdbc08",
   "metadata": {},
   "outputs": [
    {
     "data": {
      "text/plain": [
       "(     Recorded  Jump Height (in)  Recorded Jump length (in)  \\\n",
       " 69                           24                         75   \n",
       " 4                            17                         77   \n",
       " 50                           22                         88   \n",
       " 97                           24                         82   \n",
       " 95                           25                        104   \n",
       " 7                            18                         78   \n",
       " 40                           17                        101   \n",
       " 76                           18                         85   \n",
       " 88                           22                         74   \n",
       " 55                           22                         83   \n",
       " 25                           18                         87   \n",
       " 101                          19                         73   \n",
       " 38                           18                         95   \n",
       " 14                           23                         59   \n",
       " 1                            18                         75   \n",
       " 8                            25                        105   \n",
       " 72                           19                        110   \n",
       " 91                           22                        107   \n",
       " 22                           20                         74   \n",
       " 75                           27                         89   \n",
       " 56                           15                        103   \n",
       " 73                           26                         91   \n",
       " 74                           23                         91   \n",
       " 49                           17                         82   \n",
       " 64                           23                        101   \n",
       " 84                           20                        100   \n",
       " \n",
       "      Recorded backwards jump length (in)  \n",
       " 69                                    45  \n",
       " 4                                     44  \n",
       " 50                                    45  \n",
       " 97                                    48  \n",
       " 95                                    51  \n",
       " 7                                     45  \n",
       " 40                                    48  \n",
       " 76                                    46  \n",
       " 88                                    47  \n",
       " 55                                    51  \n",
       " 25                                    53  \n",
       " 101                                   45  \n",
       " 38                                    49  \n",
       " 14                                    56  \n",
       " 1                                     55  \n",
       " 8                                     45  \n",
       " 72                                    56  \n",
       " 91                                    55  \n",
       " 22                                    55  \n",
       " 75                                    45  \n",
       " 56                                    46  \n",
       " 73                                    54  \n",
       " 74                                    48  \n",
       " 49                                    44  \n",
       " 64                                    51  \n",
       " 84                                    48  ,\n",
       " array([[ 0.54, -1.42, -1.49],\n",
       "        [-1.15, -1.25, -1.77],\n",
       "        [ 0.06, -0.29, -1.49],\n",
       "        [ 0.54, -0.81, -0.66],\n",
       "        [ 0.79,  1.09,  0.18],\n",
       "        [-0.91, -1.16, -1.49],\n",
       "        [-1.15,  0.83, -0.66],\n",
       "        [-0.91, -0.55, -1.22],\n",
       "        [ 0.06, -1.5 , -0.94],\n",
       "        [ 0.06, -0.73,  0.18],\n",
       "        [-0.91, -0.38,  0.73],\n",
       "        [-0.67, -1.59, -1.49],\n",
       "        [-0.91,  0.31, -0.38],\n",
       "        [ 0.3 , -2.8 ,  1.57],\n",
       "        [-0.91, -1.42,  1.29],\n",
       "        [ 0.79,  1.18, -1.49],\n",
       "        [-0.67,  1.61,  1.57],\n",
       "        [ 0.06,  1.35,  1.29],\n",
       "        [-0.42, -1.5 ,  1.29],\n",
       "        [ 1.27, -0.21, -1.49],\n",
       "        [-1.63,  1.01, -1.22],\n",
       "        [ 1.03, -0.03,  1.01],\n",
       "        [ 0.3 , -0.03, -0.66],\n",
       "        [-1.15, -0.81, -1.77],\n",
       "        [ 0.3 ,  0.83,  0.18],\n",
       "        [-0.42,  0.75, -0.66]]))"
      ]
     },
     "execution_count": 45,
     "metadata": {},
     "output_type": "execute_result"
    }
   ],
   "source": [
    "\n",
    "X_test = n2.transform(dfX_test.to_numpy())\n",
    "dfX_test, X_test"
   ]
  },
  {
   "cell_type": "code",
   "execution_count": 50,
   "id": "a36660f1",
   "metadata": {},
   "outputs": [
    {
     "data": {
      "text/plain": [
       "array([0, 2, 1, 0, 2, 2, 1, 0, 2, 0, 0, 2, 1, 0, 0, 1, 0, 0, 0, 0, 1, 2,\n",
       "       0, 2, 2, 1], dtype=int64)"
      ]
     },
     "execution_count": 50,
     "metadata": {},
     "output_type": "execute_result"
    }
   ],
   "source": [
    "#predict the class\n",
    "knn.predict(X_test)"
   ]
  },
  {
   "cell_type": "code",
   "execution_count": 51,
   "id": "7ae48f3a",
   "metadata": {},
   "outputs": [
    {
     "data": {
      "text/plain": [
       "array([0, 0, 2, 1, 2, 0, 1, 1, 1, 1, 1, 2, 2, 1, 0, 2, 0, 1, 1, 0, 2, 1,\n",
       "       2, 1, 1, 0], dtype=int64)"
      ]
     },
     "execution_count": 51,
     "metadata": {},
     "output_type": "execute_result"
    }
   ],
   "source": [
    "y_test"
   ]
  },
  {
   "cell_type": "code",
   "execution_count": 53,
   "id": "e3ec4457",
   "metadata": {},
   "outputs": [
    {
     "data": {
      "text/plain": [
       "0.2692307692307692"
      ]
     },
     "execution_count": 53,
     "metadata": {},
     "output_type": "execute_result"
    }
   ],
   "source": [
    "#Calculate the model accuracy\n",
    "#Gives the fraction of intances correctly predicted\n",
    "knn.score(X_test, y_test)"
   ]
  },
  {
   "cell_type": "code",
   "execution_count": 54,
   "id": "fb64370b",
   "metadata": {},
   "outputs": [
    {
     "data": {
      "text/plain": [
       "0.5394736842105263"
      ]
     },
     "execution_count": 54,
     "metadata": {},
     "output_type": "execute_result"
    }
   ],
   "source": [
    "knn.score(X_train, y_train)"
   ]
  },
  {
   "cell_type": "code",
   "execution_count": 56,
   "id": "c52a3f4b",
   "metadata": {},
   "outputs": [
    {
     "data": {
      "text/plain": [
       "array([[ 0.3 , -0.73, -1.49]])"
      ]
     },
     "execution_count": 56,
     "metadata": {},
     "output_type": "execute_result"
    }
   ],
   "source": [
    "#creates a mini array of 3 jump inputs\n",
    "new_example_rawdata = np.array([[23,83,45]])\n",
    "X_new = n2.transform(new_example_rawdata)\n",
    "X_new"
   ]
  },
  {
   "cell_type": "code",
   "execution_count": 57,
   "id": "81e74cba",
   "metadata": {
    "scrolled": true
   },
   "outputs": [
    {
     "data": {
      "text/plain": [
       "array([0], dtype=int64)"
      ]
     },
     "execution_count": 57,
     "metadata": {},
     "output_type": "execute_result"
    }
   ],
   "source": [
    "#predict the class given 3 jump inputs\n",
    "knn.predict(X_new)"
   ]
  },
  {
   "cell_type": "code",
   "execution_count": 59,
   "id": "f375b7ab",
   "metadata": {},
   "outputs": [
    {
     "data": {
      "text/plain": [
       "array([1], dtype=int64)"
      ]
     },
     "execution_count": 59,
     "metadata": {},
     "output_type": "execute_result"
    }
   ],
   "source": [
    "le.inverse_transform(knn.predict(X_new))"
   ]
  }
 ],
 "metadata": {
  "kernelspec": {
   "display_name": "Python 3",
   "language": "python",
   "name": "python3"
  },
  "language_info": {
   "codemirror_mode": {
    "name": "ipython",
    "version": 3
   },
   "file_extension": ".py",
   "mimetype": "text/x-python",
   "name": "python",
   "nbconvert_exporter": "python",
   "pygments_lexer": "ipython3",
   "version": "3.9.13 (tags/v3.9.13:6de2ca5, May 17 2022, 16:36:42) [MSC v.1929 64 bit (AMD64)]"
  },
  "vscode": {
   "interpreter": {
    "hash": "1f7bf74e1aa4b983a84d8d86448016dfeac0465e12235fabd35f9b8025a60116"
   }
  }
 },
 "nbformat": 4,
 "nbformat_minor": 5
}
